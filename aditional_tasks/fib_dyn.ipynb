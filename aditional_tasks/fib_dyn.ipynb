{
 "cells": [
  {
   "attachments": {},
   "cell_type": "markdown",
   "metadata": {},
   "source": [
    "### Make function Fibonachi Number by dynamic code"
   ]
  },
  {
   "cell_type": "code",
   "execution_count": 10,
   "metadata": {},
   "outputs": [
    {
     "data": {
      "text/plain": [
       "89"
      ]
     },
     "execution_count": 10,
     "metadata": {},
     "output_type": "execute_result"
    }
   ],
   "source": [
    "# by recursion and cache\n",
    "tmp_cache = {0: 1, 1: 1, 2: 2}\n",
    "\n",
    "\n",
    "def fib(x):\n",
    "    if x in tmp_cache:\n",
    "        return tmp_cache[x]\n",
    "    else:\n",
    "        tmp_cache[x] = fib(x - 1) + fib(x - 2)\n",
    "        return tmp_cache[x]\n",
    "\n",
    "\n",
    "fib(10)"
   ]
  },
  {
   "cell_type": "code",
   "execution_count": 23,
   "metadata": {},
   "outputs": [
    {
     "data": {
      "text/plain": [
       "8"
      ]
     },
     "execution_count": 23,
     "metadata": {},
     "output_type": "execute_result"
    }
   ],
   "source": [
    "# Dynamic programming\n",
    "def fib(x):\n",
    "    fib1 = 0\n",
    "    fib2 = 1\n",
    "    for _ in range(x):\n",
    "        fib1, fib2 = fib2, fib1 + fib2\n",
    "    return fib2\n",
    "\n",
    "\n",
    "fib(5)"
   ]
  }
 ],
 "metadata": {
  "kernelspec": {
   "display_name": "Python 3",
   "language": "python",
   "name": "python3"
  },
  "language_info": {
   "codemirror_mode": {
    "name": "ipython",
    "version": 3
   },
   "file_extension": ".py",
   "mimetype": "text/x-python",
   "name": "python",
   "nbconvert_exporter": "python",
   "pygments_lexer": "ipython3",
   "version": "3.11.4"
  },
  "orig_nbformat": 4
 },
 "nbformat": 4,
 "nbformat_minor": 2
}
