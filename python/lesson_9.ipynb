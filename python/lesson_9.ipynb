{
 "cells": [
  {
   "attachments": {},
   "cell_type": "markdown",
   "metadata": {},
   "source": [
    "### Decorators\n"
   ]
  },
  {
   "cell_type": "code",
   "execution_count": 1,
   "metadata": {},
   "outputs": [
    {
     "name": "stdout",
     "output_type": "stream",
     "text": [
      "25\n"
     ]
    }
   ],
   "source": [
    "def foo(x):\n",
    "    return x\n",
    "\n",
    "\n",
    "def power(f):\n",
    "    def wrapper(x):\n",
    "        result = f(x * x)\n",
    "        return result\n",
    "\n",
    "    return wrapper\n",
    "\n",
    "\n",
    "d = power(foo)\n",
    "print(d(5))"
   ]
  },
  {
   "cell_type": "code",
   "execution_count": 10,
   "metadata": {},
   "outputs": [
    {
     "name": "stdout",
     "output_type": "stream",
     "text": [
      "HELLO WORD*****\n"
     ]
    }
   ],
   "source": [
    "def hello():\n",
    "    return \"hello word\"\n",
    "\n",
    "\n",
    "def uppercase(func):\n",
    "    def wrapper():\n",
    "        res = func().upper()\n",
    "        return res\n",
    "\n",
    "    return wrapper\n",
    "\n",
    "\n",
    "def add_stars(func):\n",
    "    def wrapper():\n",
    "        res = func() + \"*\" * 5\n",
    "        return res\n",
    "\n",
    "    return wrapper\n",
    "\n",
    "\n",
    "d = add_stars(uppercase(hello))\n",
    "print(d())"
   ]
  },
  {
   "cell_type": "code",
   "execution_count": 13,
   "metadata": {},
   "outputs": [
    {
     "name": "stdout",
     "output_type": "stream",
     "text": [
      "HELLO WORLD*****\n"
     ]
    }
   ],
   "source": [
    "@add_stars\n",
    "@uppercase\n",
    "def hello():\n",
    "    return \"hello world\"\n",
    "\n",
    "\n",
    "print(hello())"
   ]
  },
  {
   "cell_type": "code",
   "execution_count": null,
   "metadata": {},
   "outputs": [],
   "source": [
    "def add_number(func):\n",
    "    def wrapper(*args, **kwargs):\n",
    "        print(f\"Call_Function: {func.__name__}\")\n",
    "        print(f\"Arguments: {args,kwargs}\")\n",
    "        result = func(*args, **kwargs)\n",
    "        print(f\"Result: {result}\")\n",
    "\n",
    "    return wrapper\n",
    "\n",
    "\n",
    "@add_number\n",
    "def summa(a, b):\n",
    "    return a + b\n",
    "\n",
    "\n",
    "# d = add_number(summa(1,4))\n",
    "# print(d(1,23,4,1,2,3))"
   ]
  },
  {
   "cell_type": "code",
   "execution_count": 34,
   "metadata": {},
   "outputs": [
    {
     "name": "stdout",
     "output_type": "stream",
     "text": [
      "1\n",
      "2\n",
      "3\n",
      "4\n"
     ]
    },
    {
     "data": {
      "text/plain": [
       "'HelloWorld'"
      ]
     },
     "execution_count": 34,
     "metadata": {},
     "output_type": "execute_result"
    }
   ],
   "source": [
    "def calls_count(func):\n",
    "    count = 0\n",
    "\n",
    "    def wrapper(*args, **kwargs):\n",
    "        nonlocal count\n",
    "        count += 1\n",
    "        print(f\"{count}\")\n",
    "        return func(*args, **kwargs)\n",
    "\n",
    "    return wrapper\n",
    "\n",
    "\n",
    "@calls_count\n",
    "def power():\n",
    "    return \"HelloWorld\""
   ]
  },
  {
   "cell_type": "code",
   "execution_count": 74,
   "metadata": {},
   "outputs": [
    {
     "name": "stdout",
     "output_type": "stream",
     "text": [
      "asdf\n",
      "Pass time: 0\n"
     ]
    }
   ],
   "source": [
    "import time\n",
    "\n",
    "\n",
    "def timer(func):\n",
    "    def wrapper(*, x):\n",
    "        start = time.time_ns()\n",
    "        res = func()\n",
    "        finish = time.time_ns()\n",
    "        print(f\"Pass time: {finish-start}\")\n",
    "\n",
    "    return wrapper\n",
    "\n",
    "\n",
    "# @timer\n",
    "def sleep(*, x):\n",
    "    time.sleep(x)\n",
    "    d = lambda: print(\"asdf\")\n",
    "    return d\n",
    "\n",
    "\n",
    "d = timer(sleep(x=1))\n",
    "d(x=1)"
   ]
  },
  {
   "cell_type": "code",
   "execution_count": null,
   "metadata": {},
   "outputs": [],
   "source": []
  }
 ],
 "metadata": {
  "kernelspec": {
   "display_name": "Python 3",
   "language": "python",
   "name": "python3"
  },
  "language_info": {
   "codemirror_mode": {
    "name": "ipython",
    "version": 3
   },
   "file_extension": ".py",
   "mimetype": "text/x-python",
   "name": "python",
   "nbconvert_exporter": "python",
   "pygments_lexer": "ipython3",
   "version": "3.11.4"
  },
  "orig_nbformat": 4
 },
 "nbformat": 4,
 "nbformat_minor": 2
}
