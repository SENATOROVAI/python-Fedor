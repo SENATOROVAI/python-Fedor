{
 "cells": [
  {
   "cell_type": "code",
   "execution_count": 10,
   "metadata": {},
   "outputs": [
    {
     "name": "stdout",
     "output_type": "stream",
     "text": [
      "  2           0 RESUME                   0\n",
      "\n",
      "  3           2 LOAD_FAST                0 (x)\n",
      "              4 LOAD_CONST               1 (1)\n",
      "              6 BINARY_OP                0 (+)\n",
      "             10 RETURN_VALUE\n"
     ]
    }
   ],
   "source": [
    "import dis\n",
    "\n",
    "\n",
    "def foo(x):\n",
    "    return x + 1\n",
    "\n",
    "\n",
    "# print(foo.__code__.co_code)\n",
    "# d = dis.\n",
    "# dis.dis(foo(1))\n",
    "dis.dis(foo.__code__)"
   ]
  },
  {
   "cell_type": "code",
   "execution_count": 7,
   "metadata": {},
   "outputs": [],
   "source": [
    "# built-in область системных имен\n",
    "# bulitins\n",
    "\n",
    "\n",
    "# global область модуля\n",
    "def outer():\n",
    "    # enclose область обертки вложенная(ближайшая) область\n",
    "    def inner():\n",
    "        # local область внутренней видимости\n",
    "        pass\n",
    "\n",
    "\n",
    "# 1) скрыть функцию в глобальной обдласти видимости\n",
    "# 2) вынести лишний код из функции в обертку\n",
    "# 3) релизовать замыкания"
   ]
  },
  {
   "cell_type": "code",
   "execution_count": 11,
   "metadata": {},
   "outputs": [
    {
     "name": "stdout",
     "output_type": "stream",
     "text": [
      "  2           0 RESUME                   0\n",
      "\n",
      "  3           2 LOAD_CONST               1 (<code object inner at 0x0000022BB4717D20, file \"C:\\Users\\HDS\\AppData\\Local\\Temp\\ipykernel_16208\\502371045.py\", line 3>)\n",
      "              4 MAKE_FUNCTION            0\n",
      "              6 STORE_FAST               1 (inner)\n",
      "\n",
      "  5           8 PUSH_NULL\n",
      "             10 LOAD_FAST                1 (inner)\n",
      "             12 LOAD_FAST                0 (x)\n",
      "             14 PRECALL                  1\n",
      "             18 CALL                     1\n",
      "             28 RETURN_VALUE\n",
      "\n",
      "Disassembly of <code object inner at 0x0000022BB4717D20, file \"C:\\Users\\HDS\\AppData\\Local\\Temp\\ipykernel_16208\\502371045.py\", line 3>:\n",
      "  3           0 RESUME                   0\n",
      "\n",
      "  4           2 LOAD_FAST                0 (y)\n",
      "              4 LOAD_CONST               1 (1)\n",
      "              6 BINARY_OP                0 (+)\n",
      "             10 RETURN_VALUE\n",
      "None\n"
     ]
    }
   ],
   "source": [
    "# инкапсуляция - скрытие из глобальной области видимости\n",
    "def wrapper(x):\n",
    "    def inner(y):\n",
    "        return y + 1\n",
    "\n",
    "    return inner(x)\n",
    "\n",
    "\n",
    "print(dis.dis(wrapper))\n",
    "\n",
    "# inner - не доступна из-за инкапсуляции"
   ]
  },
  {
   "cell_type": "code",
   "execution_count": 13,
   "metadata": {},
   "outputs": [
    {
     "name": "stdout",
     "output_type": "stream",
     "text": [
      "720\n"
     ]
    }
   ],
   "source": [
    "def fact(x):\n",
    "    def inner(y):\n",
    "        return y * inner(y - 1) if y != 0 else 1\n",
    "\n",
    "    if x < 0:\n",
    "        return False\n",
    "    return inner(x)\n",
    "\n",
    "\n",
    "# вынесение лишней логики из функции в обертку\n",
    "print(fact(6))"
   ]
  },
  {
   "cell_type": "code",
   "execution_count": 20,
   "metadata": {},
   "outputs": [
    {
     "name": "stdout",
     "output_type": "stream",
     "text": [
      "10\n"
     ]
    }
   ],
   "source": [
    "# замыкание - функция, которая запоменает значение переменных, определенных во внешней области видимости\n",
    "\n",
    "\n",
    "def outer(x):\n",
    "    def inner(y):\n",
    "        return x + y\n",
    "\n",
    "    return inner\n",
    "\n",
    "\n",
    "get_outer = outer(6)\n",
    "print(get_outer(4))"
   ]
  },
  {
   "cell_type": "code",
   "execution_count": 28,
   "metadata": {},
   "outputs": [
    {
     "name": "stdout",
     "output_type": "stream",
     "text": [
      "133\n",
      "133\n"
     ]
    }
   ],
   "source": [
    "def outer():\n",
    "    t = 10\n",
    "\n",
    "    def inner():\n",
    "        nonlocal t\n",
    "        t += 123\n",
    "        print(t)\n",
    "\n",
    "    inner()\n",
    "    print(t)\n",
    "\n",
    "\n",
    "outer()"
   ]
  },
  {
   "cell_type": "code",
   "execution_count": 48,
   "metadata": {},
   "outputs": [
    {
     "name": "stdout",
     "output_type": "stream",
     "text": [
      "Hello Fedor\n",
      "Hello Korvyakov\n",
      "Hello name\n",
      "Hello name\n"
     ]
    }
   ],
   "source": [
    "# чтобы сделать замыкание нужно оределить функцию внутри другой функции и возвратить ее\n",
    "# чтобы сохранить значения перменных на протяжении всей жизни программы -> основная цель\n",
    "#\n",
    "def outer(name):\n",
    "    def inner():\n",
    "        print(f\"Hello {name}\")\n",
    "\n",
    "    return inner\n",
    "\n",
    "\n",
    "func = outer(\"Fedor\")\n",
    "func()\n",
    "func = outer(\"Korvyakov\")\n",
    "func()\n",
    "# outer('name').__call__()\n",
    "outer(\"name\")()"
   ]
  },
  {
   "cell_type": "code",
   "execution_count": 59,
   "metadata": {},
   "outputs": [
    {
     "name": "stdout",
     "output_type": "stream",
     "text": [
      "1\n",
      "2\n",
      "3\n"
     ]
    }
   ],
   "source": [
    "def number():\n",
    "    num = 0\n",
    "\n",
    "    def get_number():\n",
    "        nonlocal num\n",
    "        num += 1\n",
    "        return num\n",
    "\n",
    "    return get_number\n",
    "\n",
    "\n",
    "func1 = number()\n",
    "print(func1())\n",
    "print(func1())\n",
    "print(func1())"
   ]
  },
  {
   "cell_type": "code",
   "execution_count": 65,
   "metadata": {},
   "outputs": [
    {
     "name": "stdout",
     "output_type": "stream",
     "text": [
      "4\n",
      "6\n"
     ]
    }
   ],
   "source": [
    "# print(len(\"test\"))\n",
    "print((\"test\").__len__())\n",
    "\n",
    "number = 1\n",
    "print(number.__add__(5))"
   ]
  }
 ],
 "metadata": {
  "kernelspec": {
   "display_name": "venv",
   "language": "python",
   "name": "python3"
  },
  "language_info": {
   "codemirror_mode": {
    "name": "ipython",
    "version": 3
   },
   "file_extension": ".py",
   "mimetype": "text/x-python",
   "name": "python",
   "nbconvert_exporter": "python",
   "pygments_lexer": "ipython3",
   "version": "3.11.3"
  },
  "orig_nbformat": 4
 },
 "nbformat": 4,
 "nbformat_minor": 2
}
