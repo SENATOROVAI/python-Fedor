{
 "cells": [
  {
   "attachments": {},
   "cell_type": "markdown",
   "metadata": {},
   "source": [
    "#### Callback - функции обратного вызова, которые передаются в качестве аргументов в другие функции и вызываются внутри вызываемой функции.\n",
    "\n",
    "\n"
   ]
  },
  {
   "cell_type": "code",
   "execution_count": 10,
   "metadata": {},
   "outputs": [
    {
     "name": "stdout",
     "output_type": "stream",
     "text": [
      "176\n"
     ]
    }
   ],
   "source": [
    "def callback(result):\n",
    "    print(result * 2)\n",
    "\n",
    "\n",
    "# *  -  позволяет передать в функцию только в формате именованных(ключевых) аргументов\n",
    "def main_function(*, func, a, b):\n",
    "    res = b + a\n",
    "    func(res)\n",
    "\n",
    "\n",
    "main_function(func=callback, b=55, a=33)\n",
    "main_function()"
   ]
  },
  {
   "attachments": {},
   "cell_type": "markdown",
   "metadata": {},
   "source": [
    "#### Some comment\n"
   ]
  },
  {
   "cell_type": "code",
   "execution_count": 23,
   "metadata": {},
   "outputs": [
    {
     "name": "stdout",
     "output_type": "stream",
     "text": [
      "-22\n",
      "88\n",
      "1815\n"
     ]
    }
   ],
   "source": [
    "def callback_add(*args, **kwargs):\n",
    "    a, b = args\n",
    "    # print(sum:=a+b)\n",
    "    return a + b\n",
    "\n",
    "\n",
    "def callback_sub(*args, **kwarg):\n",
    "    a, b = args\n",
    "    return a - b\n",
    "\n",
    "\n",
    "# *  -  позволяет передать в функцию только в формате именованных(ключевых) аргументов\n",
    "def main_function(*, callback, a, b):\n",
    "    res = callback(a, b)\n",
    "    print(res)\n",
    "\n",
    "\n",
    "multiply = lambda a, b: a * b\n",
    "\n",
    "main_function(callback=callback_sub, b=55, a=33)\n",
    "main_function(callback=callback_add, b=55, a=33)\n",
    "main_function(callback=multiply, b=55, a=33)"
   ]
  },
  {
   "cell_type": "markdown",
   "metadata": {},
   "source": [
    "#### Some comment"
   ]
  },
  {
   "cell_type": "code",
   "execution_count": 25,
   "metadata": {},
   "outputs": [
    {
     "name": "stdout",
     "output_type": "stream",
     "text": [
      "lenght = 5\n"
     ]
    }
   ],
   "source": [
    "def callback(len):\n",
    "    print(f\"lenght = {len}\")\n",
    "\n",
    "\n",
    "def printFileLen(*, path, callback):\n",
    "    with open(path, \"r\") as file:\n",
    "        len = file.read().__len__()\n",
    "        callback(len)\n",
    "\n",
    "\n",
    "if __name__ == \"__main__\":\n",
    "    printFileLen(path=\"test.txt\", callback=callback)"
   ]
  }
 ],
 "metadata": {
  "kernelspec": {
   "display_name": "Python 3",
   "language": "python",
   "name": "python3"
  },
  "language_info": {
   "codemirror_mode": {
    "name": "ipython",
    "version": 3
   },
   "file_extension": ".py",
   "mimetype": "text/x-python",
   "name": "python",
   "nbconvert_exporter": "python",
   "pygments_lexer": "ipython3",
   "version": "3.11.4"
  },
  "orig_nbformat": 4
 },
 "nbformat": 4,
 "nbformat_minor": 2
}
