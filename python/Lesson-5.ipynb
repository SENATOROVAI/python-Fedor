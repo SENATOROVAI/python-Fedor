{
 "cells": [
  {
   "cell_type": "code",
   "execution_count": 4,
   "metadata": {},
   "outputs": [
    {
     "name": "stdout",
     "output_type": "stream",
     "text": [
      "Hello Fedor\n",
      "Hello Ruslan\n"
     ]
    }
   ],
   "source": [
    "def outer(name):\n",
    "    def inner():\n",
    "        print(\"Hello \" + name)\n",
    "\n",
    "    return inner\n",
    "\n",
    "\n",
    "name = outer(\"Fedor\")\n",
    "name2 = outer(\"Ruslan\")\n",
    "name()\n",
    "name2()"
   ]
  },
  {
   "cell_type": "code",
   "execution_count": null,
   "metadata": {},
   "outputs": [],
   "source": [
    "def outer(num):\n",
    "    def inner(power):\n",
    "        return num**power\n",
    "\n",
    "    return inner\n",
    "\n",
    "\n",
    "number1 = outer()\n",
    "number2 = outer()\n",
    "\n",
    "print(number1(2))\n",
    "print(number2(3))"
   ]
  },
  {
   "cell_type": "code",
   "execution_count": 14,
   "metadata": {},
   "outputs": [
    {
     "name": "stdout",
     "output_type": "stream",
     "text": [
      "TEST\n"
     ]
    }
   ],
   "source": [
    "def outer():\n",
    "    def inner():\n",
    "        print(\"TEST\")\n",
    "\n",
    "    inner()\n",
    "\n",
    "\n",
    "# outer()()\n",
    "outer()"
   ]
  },
  {
   "attachments": {},
   "cell_type": "markdown",
   "metadata": {},
   "source": [
    "### Функция которая возвращает другие функции - Фабрика функций\n",
    "### late binding - в замыканиях все переменные внутри вложенной функции вычисляются в момент ее вызова а не создания(позднее связывание)"
   ]
  },
  {
   "cell_type": "code",
   "execution_count": null,
   "metadata": {},
   "outputs": [
    {
     "name": "stdout",
     "output_type": "stream",
     "text": [
      "25\n",
      "25\n"
     ]
    }
   ],
   "source": [
    "lst = []\n",
    "# проблема late building\n",
    "for i in (1,2):\n",
    "    def inner(x):\n",
    "        return x ** i\n",
    "    lst.append(inner)\n",
    "# хотим получить список степени 5\n"
   ]
  }
 ],
 "metadata": {
  "kernelspec": {
   "display_name": "venv",
   "language": "python",
   "name": "python3"
  },
  "language_info": {
   "codemirror_mode": {
    "name": "ipython",
    "version": 3
   },
   "file_extension": ".py",
   "mimetype": "text/x-python",
   "name": "python",
   "nbconvert_exporter": "python",
   "pygments_lexer": "ipython3"
  },
  "orig_nbformat": 4
 },
 "nbformat": 4,
 "nbformat_minor": 2
}
