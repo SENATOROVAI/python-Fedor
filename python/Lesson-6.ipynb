{
 "cells": [
  {
   "cell_type": "code",
   "execution_count": 1,
   "metadata": {},
   "outputs": [
    {
     "name": "stdout",
     "output_type": "stream",
     "text": [
      "25\n",
      "25\n"
     ]
    }
   ],
   "source": [
    "lst = []\n",
    "# проблема late building\n",
    "for i in (1, 2):\n",
    "\n",
    "    def inner(x):\n",
    "        return x**i\n",
    "\n",
    "    lst.append(inner)\n",
    "# хотим получить список степени 5\n",
    "\n",
    "for p in lst:\n",
    "    print(p(5))"
   ]
  },
  {
   "cell_type": "code",
   "execution_count": 2,
   "metadata": {},
   "outputs": [
    {
     "name": "stdout",
     "output_type": "stream",
     "text": [
      "5\n",
      "25\n"
     ]
    }
   ],
   "source": [
    "lst = []\n",
    "# проблема late building\n",
    "for i in (1, 2):\n",
    "\n",
    "    def inner(x, i=i):\n",
    "        return x**i\n",
    "\n",
    "    lst.append(inner)\n",
    "# хотим получить список степени 5\n",
    "\n",
    "\n",
    "for p in lst:\n",
    "    print(p(5))"
   ]
  },
  {
   "cell_type": "code",
   "execution_count": 6,
   "metadata": {},
   "outputs": [
    {
     "name": "stdout",
     "output_type": "stream",
     "text": [
      "5\n",
      "25\n"
     ]
    }
   ],
   "source": [
    "lst = []\n",
    "# проблема late building\n",
    "for i in (1, 2):\n",
    "\n",
    "    def outer(j):\n",
    "        def inner(x):\n",
    "            return x**j\n",
    "\n",
    "        return inner\n",
    "\n",
    "    lst.append(outer(i))\n",
    "# хотим получить список степени 5\n",
    "\n",
    "for p in lst:\n",
    "    print(p(5))"
   ]
  },
  {
   "cell_type": "code",
   "execution_count": 11,
   "metadata": {},
   "outputs": [
    {
     "name": "stdout",
     "output_type": "stream",
     "text": [
      "5\n"
     ]
    }
   ],
   "source": [
    "def sum(x: int, y: int) -> int:  # x,y параметры\n",
    "    return x + y\n",
    "\n",
    "\n",
    "# n = sum(2,3) #2,3 - агрументы\n",
    "# print(n)\n",
    "\n",
    "# лейт билдинг значение типы аргументов инницилизируются только во время вызова\n",
    "\n",
    "\n",
    "def foo(x, y, operation):\n",
    "    return operation(x, y)\n",
    "\n",
    "\n",
    "print(foo(2, 3, sum))\n",
    "# Функция высшего порядка - ф-я которая в качестве параметра принимает другую фукуию"
   ]
  },
  {
   "attachments": {},
   "cell_type": "markdown",
   "metadata": {},
   "source": [
    "### Высшая функция\n",
    "Высшая функция - функция в которую передается другая функция"
   ]
  },
  {
   "cell_type": "code",
   "execution_count": null,
   "metadata": {},
   "outputs": [],
   "source": [
    "def sum(x: int, y: int) -> int:  # x,y параметры\n",
    "    return x + y\n",
    "\n",
    "\n",
    "def foo(x, y, operation):\n",
    "    return operation\n",
    "\n",
    "\n",
    "print(foo(2, 3, sum(5, 3)))"
   ]
  },
  {
   "attachments": {},
   "cell_type": "markdown",
   "metadata": {},
   "source": [
    "### Примеры реализации Closure(Замыкания)\n",
    "Замыкание это внутренняя функция которая возвращается из внешней и при это использует чужие переменные(переменные из внешнего скоупа) \n",
    "Замыкания между собой не пересекаются(хранят разные состояния) students_boys,students_girls\n",
    "Каждый вызов функции возвращает отдельный отбъект замыкания"
   ]
  },
  {
   "cell_type": "code",
   "execution_count": 21,
   "metadata": {},
   "outputs": [
    {
     "name": "stdout",
     "output_type": "stream",
     "text": [
      "['Vasya']\n",
      "['Vasya', 'Petya']\n",
      "['Vasya', 'Petya', 'Kolya']\n",
      "\n",
      "['Lena']\n",
      "['Lena', 'Olya']\n",
      "['Lena', 'Olya', 'Mahsa']\n"
     ]
    }
   ],
   "source": [
    "import sys\n",
    "\n",
    "\n",
    "def names():\n",
    "    all_names = (\n",
    "        []\n",
    "    )  # (свободная переменная) список инкапсулирован, к нему нет доступа из global\n",
    "    # print(id(all_names))\n",
    "\n",
    "    def inner(name: str) -> list:\n",
    "        # print(sys.getrefcount(all_names))\n",
    "        all_names.append(name)\n",
    "        return all_names\n",
    "\n",
    "    return inner\n",
    "\n",
    "\n",
    "students_boys = names()\n",
    "students_girls = names()\n",
    "\n",
    "print(students_boys(\"Vasya\"))\n",
    "print(students_boys(\"Petya\"))\n",
    "print(students_boys(\"Kolya\"))\n",
    "print()\n",
    "print(students_girls(\"Lena\"))\n",
    "print(students_girls(\"Olya\"))\n",
    "print(students_girls(\"Mahsa\"))"
   ]
  },
  {
   "attachments": {},
   "cell_type": "markdown",
   "metadata": {},
   "source": [
    "Замыкания применяют для избежания использования глобальных переменных"
   ]
  },
  {
   "cell_type": "code",
   "execution_count": 24,
   "metadata": {},
   "outputs": [
    {
     "name": "stdout",
     "output_type": "stream",
     "text": [
      "1\n",
      "2\n",
      "3\n"
     ]
    }
   ],
   "source": [
    "def counter():\n",
    "    count = 0\n",
    "\n",
    "    def inner(value: int) -> int:\n",
    "        nonlocal count\n",
    "        count += value\n",
    "        return count\n",
    "\n",
    "    return inner\n",
    "\n",
    "\n",
    "count = counter()\n",
    "print(count(1))\n",
    "print(count(1))\n",
    "print(count(1))"
   ]
  },
  {
   "attachments": {},
   "cell_type": "markdown",
   "metadata": {},
   "source": [
    "Получить доступ к переменным замыкания можно через дандер метод __closure__"
   ]
  },
  {
   "cell_type": "code",
   "execution_count": 25,
   "metadata": {},
   "outputs": [
    {
     "name": "stdout",
     "output_type": "stream",
     "text": [
      "['Vasya']\n"
     ]
    }
   ],
   "source": [
    "def names():\n",
    "    all_names = []\n",
    "\n",
    "    def inner(name: str) -> list:\n",
    "        all_names.append(name)\n",
    "        return all_names\n",
    "\n",
    "    return inner\n",
    "\n",
    "\n",
    "students_boys = names()\n",
    "students_boys(\"Vasya\")\n",
    "print(students_boys.__closure__[0].cell_contents)"
   ]
  },
  {
   "attachments": {},
   "cell_type": "markdown",
   "metadata": {},
   "source": [
    "Ананимная функция lambda так же может использоваться в замыканиях"
   ]
  },
  {
   "cell_type": "code",
   "execution_count": 30,
   "metadata": {},
   "outputs": [
    {
     "name": "stdout",
     "output_type": "stream",
     "text": [
      "25\n",
      "32\n"
     ]
    }
   ],
   "source": [
    "def pow(base):\n",
    "    return (\n",
    "        lambda value: value**base\n",
    "    )  # внутрення функция лямбда захватывает переменную base переданную в качестве аргумента\n",
    "\n",
    "\n",
    "p = pow(2)\n",
    "print(p(5))\n",
    "\n",
    "a = lambda a, b: a**b\n",
    "a_1 = a(2, 5)\n",
    "print(a_1)"
   ]
  }
 ],
 "metadata": {
  "kernelspec": {
   "display_name": "env",
   "language": "python",
   "name": "python3"
  },
  "language_info": {
   "codemirror_mode": {
    "name": "ipython",
    "version": 3
   },
   "file_extension": ".py",
   "mimetype": "text/x-python",
   "name": "python",
   "nbconvert_exporter": "python",
   "pygments_lexer": "ipython3",
   "version": "3.11.4"
  },
  "orig_nbformat": 4
 },
 "nbformat": 4,
 "nbformat_minor": 2
}
