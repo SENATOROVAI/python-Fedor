{
 "cells": [
  {
   "cell_type": "code",
   "execution_count": 9,
   "metadata": {},
   "outputs": [
    {
     "name": "stdout",
     "output_type": "stream",
     "text": [
      "[-39, -37, -35, -33, -31, -29, -27, -25, -23, -21, -19, -17, -15, -13, -11, -9, -7, -5, -3, -1, 1, 3, 5]\n"
     ]
    }
   ],
   "source": [
    "\"\"\"Задание 1 (0.5)\n",
    "Напишите программу, которая создает список:\n",
    "\n",
    "из чисел от -3 до 9 (включая 9);\n",
    "каждое второе число из последовательности от 20 до -1 (не включая -1);\n",
    "каждое десятое число от -500 до 80 (включая 80);\n",
    "нечетные числа -40 до 5.\"\"\"\n",
    "\n",
    "lst = [*range(-3, 10)]\n",
    "# print(lst)\n",
    "help(range)\n",
    "\n",
    "lst = [*range(20, -1, -2)]\n",
    "print(lst)\n",
    "\n",
    "lst = [*range(-500, 81, 10)]\n",
    "print(lst)\n",
    "\n",
    "\n",
    "lst = [i + 1 for i in range(-40, 5, 2)]\n",
    "print(lst)"
   ]
  },
  {
   "attachments": {},
   "cell_type": "markdown",
   "metadata": {},
   "source": [
    "Задание 2 (0.5)\n",
    "Создайте словарь, в котором ключами будут четные числа, которые есть на промежутке 1 от 10, а значениями словаря будут кубы соотвествующих ключей."
   ]
  },
  {
   "cell_type": "code",
   "execution_count": null,
   "metadata": {},
   "outputs": [],
   "source": [
    "d = {i: i**3 for i in range(2, 11, 2)}\n",
    "print(d)"
   ]
  },
  {
   "attachments": {},
   "cell_type": "markdown",
   "metadata": {},
   "source": [
    "Задание 3 (0.5)\n",
    "Напишите программу, которая конвертирует строковые значения данного словаря nums в числа, там, где это применимо."
   ]
  },
  {
   "cell_type": "code",
   "execution_count": 14,
   "metadata": {},
   "outputs": [
    {
     "name": "stdout",
     "output_type": "stream",
     "text": [
      "{'x': 10, 'y': '^', 'z': 30, 'p': 40, 'q': 50, 'r': 60}\n"
     ]
    }
   ],
   "source": [
    "d = {\"x\": \"10\", \"y\": \"20\", \"z\": \"30\", \"p\": \"40\", \"q\": \"50\", \"r\": \"60\"}\n",
    "n = {}\n",
    "for key, value in d.items():\n",
    "    try:\n",
    "        value = int(value)\n",
    "    except:\n",
    "        pass\n",
    "    n[key] = value\n",
    "print(n)\n",
    "\n",
    "\n",
    "# { 'x': 10 , 'y': 20 , 'z': 30, 'p': 40, 'q': 50, 'r': 60}"
   ]
  },
  {
   "attachments": {},
   "cell_type": "markdown",
   "metadata": {},
   "source": [
    "Задание 10 (1)\n",
    "Два слова являются анаграммами, если состоят из одинаковых букв. Напишите функцию, которая принимает на вход два словами и считает, являеются эти слова анаграммами."
   ]
  },
  {
   "cell_type": "code",
   "execution_count": 38,
   "metadata": {},
   "outputs": [
    {
     "name": "stdout",
     "output_type": "stream",
     "text": [
      "3\n",
      "3\n"
     ]
    }
   ],
   "source": [
    "def anagram(a: str, b: str) -> bool:\n",
    "    return set(a) == set(b)\n",
    "\n",
    "\n",
    "anagram(\"asd\", \"asd\")\n",
    "\n",
    "###  Тест 1\n",
    "# print(is_anagrams(\"binary\", \"brainy\"))\n",
    "\n",
    "# Выход:\n",
    "# True\n",
    "\n",
    "a = iter(\"test\")\n",
    "# help(iter)\n",
    "# print(*dir(iter),sep='\\n')\n",
    "\n",
    "# print(id(a.__next__()))\n",
    "# print(id(a.__next__()))\n",
    "\n",
    "num1, num2 = 1, 2\n",
    "print(num1 + num2)\n",
    "print(num1.__add__(num2))"
   ]
  }
 ],
 "metadata": {
  "kernelspec": {
   "display_name": "venv",
   "language": "python",
   "name": "python3"
  },
  "language_info": {
   "codemirror_mode": {
    "name": "ipython",
    "version": 3
   },
   "file_extension": ".py",
   "mimetype": "text/x-python",
   "name": "python",
   "nbconvert_exporter": "python",
   "pygments_lexer": "ipython3",
   "version": "3.11.3"
  },
  "orig_nbformat": 4
 },
 "nbformat": 4,
 "nbformat_minor": 2
}
