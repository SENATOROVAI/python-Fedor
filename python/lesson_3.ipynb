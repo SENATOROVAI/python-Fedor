{
 "cells": [
  {
   "cell_type": "code",
   "execution_count": null,
   "metadata": {},
   "outputs": [],
   "source": [
    "# if door_closed:         # == True\n",
    "#     if door_locked:\n",
    "#         unlock_door( )\n",
    "#     open_door( )\n",
    "# advance()\n",
    "\n",
    "# def foo(a, x=[]):\n",
    "#     x.append(a)\n",
    "#     return x\n",
    "\n",
    "# for i in range(3):\n",
    "#     print(foo(i))"
   ]
  },
  {
   "attachments": {},
   "cell_type": "markdown",
   "metadata": {},
   "source": [
    "Задание 5 (1.5)\n",
    "Напишите функцию pretty_print, которая прнимает на вход \n",
    "неограниченное число аргументов и \n",
    "выводит пару аргумент-значение построчно.\n",
    "\n",
    "\n",
    "Пример\n",
    "Тест 1\n",
    "pretty_print(title=\"The Matrix\", director=\"Wachowski\", year=1999)\n",
    "\n",
    "Выход: \n",
    "\n",
    "    title: The Matrix\n",
    "    director: Wachowski\n",
    "    year: 1999\n",
    "\n",
    "Тест 2\n",
    "pretty_print(name=\"Anna\", surname =\"Delvey\")\n",
    "Выход: \n",
    "    name: Anna\n",
    "    surname: Delvey"
   ]
  },
  {
   "cell_type": "code",
   "execution_count": null,
   "metadata": {},
   "outputs": [],
   "source": [
    "def pretty_print(**args):  # неограниченное кло-во пары key:value\n",
    "\n",
    "    for item in args:\n",
    "        print(f\"{item}:{args[item]}\")\n",
    "\n",
    "\n",
    "# pretty_print(title=\"The Matrix\", director=\"Wachowski\", year=1999)\n",
    "\n",
    "# print(pretty_print.__dir__())\n",
    "# pretty_print(title=\"The Matrix\", director=\"Wachowski\", \\\n",
    "        # year=1999) ===> pretty_print.__call__(title=\"The Matrix\", director=\"Wachowski\", year=1999)\n",
    "# pretty_print.__call__(title=\"The Matrix\", director=\"Wachowski\", year=1999)\n",
    "\n",
    "# pretty_print.__dir__()\n",
    "\n",
    "# pretty_print.__code__.co_code\n",
    "\n",
    "# pretty_print.__code__.co_varnames"
   ]
  }
 ],
 "metadata": {
  "kernelspec": {
   "display_name": "venv",
   "language": "python",
   "name": "python3"
  },
  "language_info": {
   "codemirror_mode": {
    "name": "ipython",
    "version": 3
   },
   "file_extension": ".py",
   "mimetype": "text/x-python",
   "name": "python",
   "nbconvert_exporter": "python",
   "pygments_lexer": "ipython3",
   "version": "3.11.3"
  },
  "orig_nbformat": 4
 },
 "nbformat": 4,
 "nbformat_minor": 2
}
