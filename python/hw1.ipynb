{
 "cells": [
  {
   "attachments": {},
   "cell_type": "markdown",
   "metadata": {},
   "source": [
    "поехали!"
   ]
  },
  {
   "cell_type": "code",
   "execution_count": 3,
   "metadata": {},
   "outputs": [
    {
     "name": "stdout",
     "output_type": "stream",
     "text": [
      "0 1 2 3 4 5 6 7 8 9 10 11 12 13 14 15 16 17 18 19 20 21 22 23 24 25 26 27 28 29 30 31 32 33 34 35 36 37 38 39 40 41 42 43 44 45 46 47 48 49 50 51 52 53 54 55 56 57 58 59 60 61 62 63 64 65 66 67 68 69 70 71 72 73 74 75 76 77 78 79 80 81 82 83 84 85 86 87 88 89 90 91 92 93 94 95 96 97 98 99 100\n"
     ]
    }
   ],
   "source": [
    "# Написать программу, которая выводит на экран все четные числа в диапазоне от 0 до заданного пользователем числа.\n",
    "print(*[i for i in range(int(input(':> '))+1) if i % 2 == 0])"
   ]
  },
  {
   "cell_type": "code",
   "execution_count": 17,
   "metadata": {},
   "outputs": [
    {
     "name": "stdout",
     "output_type": "stream",
     "text": [
      "результат:  24.0\n"
     ]
    }
   ],
   "source": [
    "# Написать программу калькулятор, которая позволяет пользователю выполнять арифметические операции (+, -, *, /) над двумя заданными числами.\n",
    "def simple_calc() -> None:\n",
    "    a,c,b = map(str, input('Введите первое число, операцю(+ - / *), второе число в одну строку через пробел: ').split())\n",
    "    operations_list = ['+','-','/','*']\n",
    "    if c not in operations_list:\n",
    "        return print(\"Недопустимая операция\")\n",
    "    try:\n",
    "        match c:\n",
    "            case \"+\":\n",
    "                print(f\"{a}{c}{b}={int(a)+int(b)}\")    \n",
    "            case \"-\":\n",
    "                print(f\"{a}{c}{b}={int(a)-int(b)}\")\n",
    "            case \"*\":\n",
    "                print(f\"{a}{c}{b}={int(a)*int(b)}\")\n",
    "            case \"/\":\n",
    "                print(f\"{a}{c}{b}={int(a)/int(b)}\")\n",
    "            case _:\n",
    "                print(\"Ошибка ввода\")    \n",
    "    except Exception as e:\n",
    "        return print(\"Ошибка\", e)\n",
    "    \n",
    "# simple_calc()\n",
    "\n",
    "#cheatway :)\n",
    "print(\"результат: \", eval(input(\"Введите: \")))"
   ]
  },
  {
   "cell_type": "code",
   "execution_count": 18,
   "metadata": {},
   "outputs": [
    {
     "name": "stdout",
     "output_type": "stream",
     "text": [
      "123\n"
     ]
    }
   ],
   "source": [
    "# Написать программу, которая находит максимальное число из трех заданных пользователем чисел.\n",
    "print(max([int(input(':>')) for i in range(3)]))\n"
   ]
  },
  {
   "cell_type": "code",
   "execution_count": 19,
   "metadata": {},
   "outputs": [
    {
     "name": "stdout",
     "output_type": "stream",
     "text": [
      "False\n"
     ]
    }
   ],
   "source": [
    "# Написать программу, которая проверяет, есть ли заданное пользователем число в заданном списке.\n",
    "lst = [i for i in range(20)]\n",
    "num = int(input(\":>\"))\n",
    "print(num in lst)\n"
   ]
  },
  {
   "cell_type": "code",
   "execution_count": 22,
   "metadata": {},
   "outputs": [
    {
     "name": "stdout",
     "output_type": "stream",
     "text": [
      "5 градусов по Фаренгейту равняются 169.0 градусам по Цельсию\n"
     ]
    }
   ],
   "source": [
    "# Написать программу, которая конвертирует температуру в градусах Цельсия в температуру в градусах Фаренгейта.\n",
    "a = int(input(\":>\"))\n",
    "print(f\"{a} градусов по Фаренгейту равняются {a*33.8} градусам по Цельсию\")"
   ]
  },
  {
   "cell_type": "code",
   "execution_count": 24,
   "metadata": {},
   "outputs": [
    {
     "name": "stdout",
     "output_type": "stream",
     "text": [
      "a\n",
      "s\n",
      "d\n",
      "f\n"
     ]
    }
   ],
   "source": [
    "# Написать программу, которая принимает строку от пользователя и выводит на экран каждый символ строки в отдельной строке.\n",
    "print(*[i for i in str(input())], sep=\"\\n\")"
   ]
  },
  {
   "cell_type": "code",
   "execution_count": 31,
   "metadata": {},
   "outputs": [
    {
     "name": "stdout",
     "output_type": "stream",
     "text": [
      "190523\n",
      "\n",
      "1)Создние репозитория\n",
      "2)Задача на codeforce\n",
      "3)Типы данных\n",
      "\n",
      "\n"
     ]
    }
   ],
   "source": [
    "# Написать программу, которая считывает содержимое текстового файла и выводит его на экран.\n",
    "with open(r'C:\\Users\\HDS\\Documents\\GitHub\\python-Fedor\\journal.txt', \"r\",encoding=\"utf8\") as file:\n",
    "    r = file.read()\n",
    "print(r)"
   ]
  }
 ],
 "metadata": {
  "kernelspec": {
   "display_name": "venv",
   "language": "python",
   "name": "python3"
  },
  "language_info": {
   "codemirror_mode": {
    "name": "ipython",
    "version": 3
   },
   "file_extension": ".py",
   "mimetype": "text/x-python",
   "name": "python",
   "nbconvert_exporter": "python",
   "pygments_lexer": "ipython3",
   "version": "3.11.3"
  },
  "orig_nbformat": 4
 },
 "nbformat": 4,
 "nbformat_minor": 2
}
