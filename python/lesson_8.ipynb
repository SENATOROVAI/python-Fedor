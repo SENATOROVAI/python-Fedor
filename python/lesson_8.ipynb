{
 "cells": [
  {
   "attachments": {},
   "cell_type": "markdown",
   "metadata": {},
   "source": [
    "#### some comment"
   ]
  },
  {
   "cell_type": "code",
   "execution_count": null,
   "metadata": {},
   "outputs": [],
   "source": [
    "# some code\n",
    "import pandas as pd\n",
    "import numpy as np\n",
    "\n",
    "# numpy про матрицы\n",
    "# pandas про обработку данных\n",
    "\n",
    "x = np.arange(15, dtype=np.int64).reshape(3, 5)\n",
    "y = x.copy()\n",
    "data = x.reshape(5, 3)\n",
    "print(*np.ndarray.tolist(data), sep=\"\\n\")"
   ]
  },
  {
   "cell_type": "code",
   "execution_count": null,
   "metadata": {},
   "outputs": [],
   "source": [
    "x = [np.random.standard_normal() for i in range(7)]\n",
    "y = [[1, 2, 3], [4, 5, 6]]"
   ]
  },
  {
   "cell_type": "code",
   "execution_count": null,
   "metadata": {},
   "outputs": [],
   "source": [
    "my_aray = np.arange(1_000_000)\n",
    "my_list = list(range(100000))"
   ]
  },
  {
   "cell_type": "code",
   "execution_count": null,
   "metadata": {},
   "outputs": [],
   "source": [
    "data = np.array([[1, 2, 3], [4, 5, 6]])\n",
    "print(data.shape)  # размерность\n",
    "print(data.dtype)  # тип данных\n",
    "print(data * 17)"
   ]
  },
  {
   "cell_type": "code",
   "execution_count": null,
   "metadata": {},
   "outputs": [],
   "source": [
    "data_1 = [1, 3, 4]\n",
    "# data_2 = [1,3,4]\n",
    "array_1 = np.array(data_1)\n",
    "array_1\n",
    "data_2 = np.zeros((3, 6), dtype=int)\n",
    "# print(data_2)\n",
    "\n",
    "data_3 = np.ones(5)\n",
    "\n",
    "# print(data_3)\n",
    "\n",
    "data_4 = np.empty((3, 3, 3))\n",
    "# data_4\n",
    "data_5 = np.arange(10)\n",
    "# data_5\n",
    "\n",
    "data_6 = np.array(data_1, dtype=int)\n",
    "# data_6\n",
    "# 1 байт 8 бит\n",
    "# int8 8х разрядная 1 (байта) целые со знаком и без знака\n",
    "# int16 16х разрядная 2 (байта) целые со знаком и без знака\n",
    "# int32 32х разрядная 4 (байта) целые со знаком и без знака\n",
    "# int64 64х разрядная 4 (байта) целые со знаком и без знака\n",
    "# complex64,complex128,complex256 комплексные числа вещественная и мнимая часть,\n",
    "# представленны типами(float32,float64,float128)\n",
    "# string_ строка фиксированной длинны ascii 1 byte = 1 char\n",
    "# unicode_ строка фиксированной длинны"
   ]
  },
  {
   "cell_type": "code",
   "execution_count": 8,
   "metadata": {},
   "outputs": [
    {
     "name": "stdout",
     "output_type": "stream",
     "text": [
      "Deep copy operation on arbitrary Python objects.\n",
      "\n",
      "    See the module's __doc__ string for more info.\n",
      "    \n"
     ]
    }
   ],
   "source": [
    "from copy import deepcopy\n",
    "\n",
    "# data = np.arange(10)\n",
    "# data[2:9] += 7\n",
    "\n",
    "# data_1 = data_1[2:9].copy()\n",
    "# data_1\n",
    "\n",
    "\n",
    "print(deepcopy.__doc__)"
   ]
  }
 ],
 "metadata": {
  "kernelspec": {
   "display_name": "base",
   "language": "python",
   "name": "python3"
  },
  "language_info": {
   "codemirror_mode": {
    "name": "ipython",
    "version": 3
   },
   "file_extension": ".py",
   "mimetype": "text/x-python",
   "name": "python",
   "nbconvert_exporter": "python",
   "pygments_lexer": "ipython3",
   "version": "3.10.9"
  },
  "orig_nbformat": 4
 },
 "nbformat": 4,
 "nbformat_minor": 2
}
