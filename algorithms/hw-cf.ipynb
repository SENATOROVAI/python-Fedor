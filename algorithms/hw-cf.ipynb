{
 "cells": [
  {
   "cell_type": "code",
   "execution_count": null,
   "metadata": {},
   "outputs": [],
   "source": [
    "def w_way_too_long_words(lst: list) -> None:\n",
    "    # https://codeforces.com/problemset/problem/71/A?locale=en\n",
    "    # A. Way Too Long Words\n",
    "    for word in word_list:\n",
    "        if len(word) > 10:\n",
    "            print(word[0] + str(len(word) - 2) + word[-1])\n",
    "\n",
    "\n",
    "word_list = [\n",
    "    \"4\",\n",
    "    \"word\",\n",
    "    \"localization\",\n",
    "    \"internationalization\",\n",
    "    \"pneumonoultramicroscopicsilicovolcanoconiosis\",\n",
    "]\n",
    "# w_way_too_long_words(word_list)"
   ]
  }
 ],
 "metadata": {
  "language_info": {
   "name": "python"
  },
  "orig_nbformat": 4
 },
 "nbformat": 4,
 "nbformat_minor": 2
}
