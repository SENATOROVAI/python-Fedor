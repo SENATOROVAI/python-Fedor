{
 "cells": [
  {
   "attachments": {},
   "cell_type": "markdown",
   "metadata": {},
   "source": [
    "https://projecteuler.net/problem=1\n",
    "If we list all the natural numbers below 10 that are multiples of 3 or 5, we get 3, 5, 6 and 9. \n",
    "he sum of these multiples is 23.\n",
    "ind the sum of all the multiples of 3 or 5 below 1000."
   ]
  },
  {
   "cell_type": "code",
   "execution_count": null,
   "metadata": {},
   "outputs": [
    {
     "data": {
      "text/plain": [
       "233168"
      ]
     },
     "execution_count": 2,
     "metadata": {},
     "output_type": "execute_result"
    }
   ],
   "source": [
    "# 1:done\n",
    "def multiples_of_3_or_5(d: int) -> int:\n",
    "    sum = 0\n",
    "    for i in range(d):\n",
    "        if i % 3 == 0 or i % 5 == 0:\n",
    "            sum += i\n",
    "    return sum\n",
    "\n",
    "\n",
    "multiples_of_3_or_5(1000)"
   ]
  },
  {
   "attachments": {},
   "cell_type": "markdown",
   "metadata": {},
   "source": [
    "https://projecteuler.net/problem=2\n",
    "By considering the terms in the Fibonacci sequence whose values do not exceed four million, \n",
    "find the sum of the even-valued terms."
   ]
  },
  {
   "cell_type": "code",
   "execution_count": null,
   "metadata": {},
   "outputs": [
    {
     "name": "stdout",
     "output_type": "stream",
     "text": [
      "1 1 2 3 5 8 13 21 34 55 89 144 233 377 610 987 1597 2584 4181 6765 10946 17711 28657 46368 75025 121393 196418 317811 514229 832040 1346269 2178309 3524578 5702887 9227465 14930352 24157817 39088169 63245986 102334155 165580141 267914296 433494437 701408733 1134903170 1836311903 2971215073 4807526976 7778742049 12586269025 20365011074 32951280099 53316291173 86267571272 139583862445 225851433717 365435296162 591286729879 956722026041 1548008755920 2504730781961 4052739537881 6557470319842 10610209857723 17167680177565 27777890035288 44945570212853 72723460248141 117669030460994 190392490709135 308061521170129 498454011879264 806515533049393 1304969544928657 2111485077978050 3416454622906707 5527939700884757 8944394323791464 14472334024676221 23416728348467685 37889062373143906 61305790721611591 99194853094755497 160500643816367088 259695496911122585 420196140727489673 679891637638612258 1100087778366101931 1779979416004714189 2880067194370816120 4660046610375530309 7540113804746346429 12200160415121876738 19740274219868223167 31940434634990099905 51680708854858323072 83621143489848422977 135301852344706746049 218922995834555169026 354224848179261915075 "
     ]
    }
   ],
   "source": [
    "# 2:done\n",
    "def even_fibonacci_numbers(qty: int) -> None:\n",
    "    f1 = f2 = 1\n",
    "    i = 2\n",
    "    print(f1, f2, end=\" \")\n",
    "    while i < qty:\n",
    "        f1, f2 = f2, f1 + f2\n",
    "        print(f2, end=\" \")\n",
    "        i += 1\n",
    "\n",
    "\n",
    "even_fibonacci_numbers(100)"
   ]
  },
  {
   "attachments": {},
   "cell_type": "markdown",
   "metadata": {},
   "source": [
    "https://projecteuler.net/problem=3\n",
    "The prime factors of 13195 are 5, 7, 13 and 29.\n",
    "What is the largest prime factor of the number 600851475143 ?"
   ]
  },
  {
   "cell_type": "code",
   "execution_count": 9,
   "metadata": {},
   "outputs": [
    {
     "ename": "KeyboardInterrupt",
     "evalue": "",
     "output_type": "error",
     "traceback": [
      "\u001b[0;31m---------------------------------------------------------------------------\u001b[0m",
      "\u001b[0;31mKeyboardInterrupt\u001b[0m                         Traceback (most recent call last)",
      "Cell \u001b[0;32mIn[9], line 11\u001b[0m\n\u001b[1;32m      8\u001b[0m i \u001b[39m=\u001b[39m \u001b[39m2\u001b[39m\n\u001b[1;32m     10\u001b[0m \u001b[39m#While loop to check if a number can divide\u001b[39;00m\n\u001b[0;32m---> 11\u001b[0m \u001b[39mwhile\u001b[39;00m i \u001b[39m<\u001b[39m num:\n\u001b[1;32m     12\u001b[0m  \u001b[39mif\u001b[39;00m num \u001b[39m%\u001b[39m i \u001b[39m==\u001b[39m \u001b[39m0\u001b[39m:\n\u001b[1;32m     13\u001b[0m   divisible\u001b[39m.\u001b[39mappend(i)\n",
      "\u001b[0;31mKeyboardInterrupt\u001b[0m: "
     ]
    }
   ],
   "source": [
    "# 3:continue\n",
    "\n",
    "num = int(600851475143 / 2)\n",
    "divisible = []\n",
    "\n",
    "i = 2\n",
    "\n",
    "while i < num:\n",
    "    if num % i == 0:\n",
    "        divisible.append(i)\n",
    "        # print(i)\n",
    "    i = i + 1\n",
    "\n",
    "\n",
    "#\n",
    "def isPrime(n):\n",
    "    for i in range(2, n):\n",
    "        if n % i == 0:\n",
    "            return False\n",
    "    return True\n",
    "\n",
    "\n",
    "for i in reversed(divisible):\n",
    "    if isPrime(i) == True:\n",
    "        print(i)\n",
    "        break"
   ]
  },
  {
   "attachments": {},
   "cell_type": "markdown",
   "metadata": {},
   "source": [
    "https://projecteuler.net/problem=4\n",
    "A palindromic number reads the same both ways. The largest palindrome made from the product of two 2-digit numbers is 9009 = 91 × 99.\n",
    "Find the largest palindrome made from the product of two 3-digit numbers."
   ]
  },
  {
   "cell_type": "code",
   "execution_count": 19,
   "metadata": {},
   "outputs": [
    {
     "name": "stdout",
     "output_type": "stream",
     "text": [
      "998001\n"
     ]
    }
   ],
   "source": [
    "# 4 done\n",
    "maximum = 0\n",
    "mul = 0\n",
    "for i in range(900, 1000):\n",
    "    for j in range(900, 1000):\n",
    "        if (mul := str(i * j)) == mul[::-1] and int(mul) > maximum:\n",
    "            maximum = int(mul)\n",
    "print(mul)"
   ]
  },
  {
   "attachments": {},
   "cell_type": "markdown",
   "metadata": {},
   "source": [
    "https://projecteuler.net/problem=5\n",
    "2520 is the smallest number that can be divided by each of the numbers from 1 to 10 without any remainder.\n",
    "What is the smallest positive number that is evenly divisible by all of the numbers from 1 to 20?"
   ]
  },
  {
   "cell_type": "code",
   "execution_count": 20,
   "metadata": {},
   "outputs": [
    {
     "name": "stdout",
     "output_type": "stream",
     "text": [
      "[2, 3, 5, 7, 11, 13, 17, 19]\n"
     ]
    }
   ],
   "source": [
    "def get_primes(n: int) -> list:\n",
    "    a = []\n",
    "    for i in range(2, n + 1):\n",
    "        k = 0\n",
    "        for j in range(1, i + 1):\n",
    "            if i % j == 0:\n",
    "                k += 1\n",
    "        if k == 2:\n",
    "            a.append(i)\n",
    "    print(a)\n",
    "\n",
    "\n",
    "get_primes(20)"
   ]
  }
 ],
 "metadata": {
  "kernelspec": {
   "display_name": "venv",
   "language": "python",
   "name": "python3"
  },
  "language_info": {
   "codemirror_mode": {
    "name": "ipython",
    "version": 3
   },
   "file_extension": ".py",
   "mimetype": "text/x-python",
   "name": "python",
   "nbconvert_exporter": "python",
   "pygments_lexer": "ipython3",
   "version": "3.10.6"
  },
  "orig_nbformat": 4
 },
 "nbformat": 4,
 "nbformat_minor": 2
}
